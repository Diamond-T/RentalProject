{
 "cells": [
  {
   "cell_type": "code",
   "execution_count": null,
   "id": "997d5ff0",
   "metadata": {},
   "outputs": [],
   "source": [
    "\n"
   ]
  },
  {
   "cell_type": "code",
   "execution_count": 102,
   "id": "e3829b60",
   "metadata": {},
   "outputs": [
    {
     "name": "stdout",
     "output_type": "stream",
     "text": [
      "What is your income/expenses/Utilites/ income and expenses? Please enter quit when finishedquit\n",
      "Thank you for your information.\n"
     ]
    },
    {
     "ename": "TypeError",
     "evalue": "income() missing 3 required positional arguments: 'rental_income', 'laundry_income', and 'storage_income'",
     "output_type": "error",
     "traceback": [
      "\u001b[0;31m---------------------------------------------------------------------------\u001b[0m",
      "\u001b[0;31mTypeError\u001b[0m                                 Traceback (most recent call last)",
      "\u001b[0;32m<ipython-input-102-3fb0b59e6967>\u001b[0m in \u001b[0;36m<module>\u001b[0;34m\u001b[0m\n\u001b[1;32m     54\u001b[0m \u001b[0;34m\u001b[0m\u001b[0m\n\u001b[1;32m     55\u001b[0m \u001b[0;34m\u001b[0m\u001b[0m\n\u001b[0;32m---> 56\u001b[0;31m \u001b[0mrun\u001b[0m\u001b[0;34m(\u001b[0m\u001b[0;34m)\u001b[0m\u001b[0;34m\u001b[0m\u001b[0;34m\u001b[0m\u001b[0m\n\u001b[0m",
      "\u001b[0;32m<ipython-input-102-3fb0b59e6967>\u001b[0m in \u001b[0;36mrun\u001b[0;34m()\u001b[0m\n\u001b[1;32m     35\u001b[0m         \u001b[0;32mif\u001b[0m \u001b[0mresponse\u001b[0m \u001b[0;34m==\u001b[0m \u001b[0;34m'quit'\u001b[0m\u001b[0;34m:\u001b[0m\u001b[0;34m\u001b[0m\u001b[0;34m\u001b[0m\u001b[0m\n\u001b[1;32m     36\u001b[0m             \u001b[0mprint\u001b[0m\u001b[0;34m(\u001b[0m\u001b[0;34m'Thank you for your information.'\u001b[0m\u001b[0;34m)\u001b[0m\u001b[0;34m\u001b[0m\u001b[0;34m\u001b[0m\u001b[0m\n\u001b[0;32m---> 37\u001b[0;31m             \u001b[0mrental_property\u001b[0m\u001b[0;34m.\u001b[0m\u001b[0mincome\u001b[0m\u001b[0;34m(\u001b[0m\u001b[0;34m)\u001b[0m\u001b[0;34m\u001b[0m\u001b[0;34m\u001b[0m\u001b[0m\n\u001b[0m\u001b[1;32m     38\u001b[0m             \u001b[0;32mbreak\u001b[0m\u001b[0;34m\u001b[0m\u001b[0;34m\u001b[0m\u001b[0m\n\u001b[1;32m     39\u001b[0m         \u001b[0;32melif\u001b[0m \u001b[0mresponse\u001b[0m \u001b[0;34m==\u001b[0m \u001b[0;34m'income'\u001b[0m\u001b[0;34m:\u001b[0m\u001b[0;34m\u001b[0m\u001b[0;34m\u001b[0m\u001b[0m\n",
      "\u001b[0;31mTypeError\u001b[0m: income() missing 3 required positional arguments: 'rental_income', 'laundry_income', and 'storage_income'"
     ]
    }
   ],
   "source": [
    "class Rental:\n",
    "    \n",
    "    def __init__(self):\n",
    "        self.Rental = []\n",
    "        #income\n",
    "    def income(self, rental_income,laundry_income, storage_income):\n",
    "        self.rental_income = rental\n",
    "        self.laundry_income = laundry\n",
    "        self.storage_income = storage\n",
    "        #expenses\n",
    "    def expenses(self,tax, insurance):\n",
    "        self.tax = tax\n",
    "        self.insurance = insurance\n",
    "        #Utilites\n",
    "    def Utilites(self,gas, water, home_owner_fees, property_man):\n",
    "        self.gas = gas\n",
    "        self.water = water\n",
    "        self.home_owner_fees = home_owner_fees\n",
    "        self.property_man = property_man\n",
    "        #cash flow\n",
    "    \n",
    "    def cash_flow(self, income, expenses):\n",
    "        self.income = income\n",
    "        self.expenses = expenses\n",
    "    def cash_on_cash_roi(self,down_payment, closing_costs, repair_money, total):\n",
    "        self.down_payment = down_payment\n",
    "        self.closing_costs = closing_cost\n",
    "        self.repair_money = repair_money\n",
    "        self.total = total\n",
    "        \n",
    "def run():\n",
    "    rental_property = Rental()\n",
    "    while True:\n",
    "        response = input('What is your income/expenses/Utilites/ income and expenses? Please enter quit when finished')\n",
    "        if response == 'quit':\n",
    "            print('Thank you for your information.')\n",
    "            rental_property.income()\n",
    "            break\n",
    "        elif response == 'income':\n",
    "            income = input('Please enter your rental income, laundry income, and storage income')\n",
    "            rental_property.income()\n",
    "        elif response =='expenses':\n",
    "            expenses = input('Please enter your tax and type of insurance')\n",
    "            rental_property.expenses\n",
    "            \n",
    "        elif response == 'Utilites':\n",
    "            utilites = input (\"please enter gas, water, home_ownder_fees, and property manager\")\n",
    "            rental_property.Utilities\n",
    "    \n",
    "        elif response ==\"income and expenses\":\n",
    "            income = input (\"Please enter income and expenses\")\n",
    "            rental_property.cash_flow\n",
    "            \n",
    "        \n",
    "            \n",
    "run()\n"
   ]
  },
  {
   "cell_type": "code",
   "execution_count": null,
   "id": "dceea97e",
   "metadata": {},
   "outputs": [],
   "source": []
  },
  {
   "cell_type": "code",
   "execution_count": null,
   "id": "ebb39d17",
   "metadata": {},
   "outputs": [],
   "source": []
  },
  {
   "cell_type": "code",
   "execution_count": null,
   "id": "80e9c33b",
   "metadata": {},
   "outputs": [],
   "source": []
  }
 ],
 "metadata": {
  "kernelspec": {
   "display_name": "Python 3",
   "language": "python",
   "name": "python3"
  },
  "language_info": {
   "codemirror_mode": {
    "name": "ipython",
    "version": 3
   },
   "file_extension": ".py",
   "mimetype": "text/x-python",
   "name": "python",
   "nbconvert_exporter": "python",
   "pygments_lexer": "ipython3",
   "version": "3.8.8"
  }
 },
 "nbformat": 4,
 "nbformat_minor": 5
}
